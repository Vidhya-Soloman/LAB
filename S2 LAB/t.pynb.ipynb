{
 "cells": [
  {
   "cell_type": "code",
   "execution_count": 5,
   "metadata": {},
   "outputs": [],
   "source": [
    "import pymongo\n",
    "a=pymongo.MongoClient(\"mongodb://localhost:27017/\")\n",
    "db=a[\"college\"]\n",
    "col=db[\"studlist\"]"
   ]
  },
  {
   "cell_type": "code",
   "execution_count": 6,
   "metadata": {},
   "outputs": [
    {
     "name": "stdout",
     "output_type": "stream",
     "text": [
      "{'_id': 1, 'name': {'fname': 'Athira', 'lname': 'Krishnan'}, 'address': {'house_name': 'Ambadi', 'city': 'Kollam'}, 'gender': 'female', 'course': 'MCA', 'mark': 80, 'grade': 'A', 'phone': {'type': 'mobile', 'no': 9896321450}}\n",
      "{'_id': 2, 'name': {'fname': 'Arya', 'lname': 'S'}, 'address': {'house_name': 'M.B.S.Bhavan', 'city': 'Varkala'}, 'gender': 'female', 'course': 'Computer Science', 'mark': 90, 'grade': 'A+', 'phone': {'type': 'mobile', 'no': 9446321420}}\n",
      "{'_id': 4, 'name': {'fname': 'Vidhya', 'lname': 'S'}, 'address': {'house_name': 'MRS House', 'city': 'Kadakkavoor'}, 'gender': 'female', 'course': 'Civil', 'mark': 85, 'grade': 'A', 'phone': {'type': 'mobile', 'no': 8146321420}}\n",
      "{'_id': 8, 'name': {'fname': 'Kavya', 'lname': 'Mohan'}, 'address': {'house_name': 'Kavyanjali', 'city': 'Kollam'}, 'gender': 'female', 'course': 'Mechanical', 'mark': 95, 'grade': 'A+', 'phone': {'type': 'mobile', 'no': 9448399780}}\n",
      "{'_id': 9, 'name': {'fname': 'Divya', 'lname': 'Vijayan'}, 'address': {'house_name': 'Divyalayam', 'city': 'Varkala'}, 'gender': 'female', 'course': 'MCA', 'mark': 70, 'grade': 'B+', 'phone': {'type': 'land', 'no': '04702667890'}}\n",
      "{'_id': 11, 'name': {'fname': 'Renuka', 'lname': 'Vijayan'}, 'address': {'house_name': 'Sreevilasam', 'city': 'Thiruvananthapuram'}, 'gender': 'female', 'course': 'MCA', 'mark': 82, 'grade': 'A', 'phone': {'type': 'land', 'no': '04712547890'}}\n",
      "{'_id': 13, 'name': {'fname': 'Remya', 'lname': 'V'}, 'address': {'house_name': 'Sree', 'city': 'Thiruvananthapuram'}, 'gender': 'female', 'course': 'MCA', 'mark': 85, 'grade': 'A', 'phone': {'type': 'land', 'no': '04712647890'}}\n",
      "{'_id': 15, 'name': {'fname': 'Remya', 'lname': 'Sugunan'}, 'address': {'house_name': 'Remya vilasam', 'city': 'Thiruvananthapuram'}, 'gender': 'female', 'course': 'MCA', 'mark': 72, 'grade': 'B+', 'phone': {'type': 'land', 'no': '04712648890'}}\n",
      "{'_id': 17, 'name': {'fname': 'Vidhya', 'lname': 'Sugunan'}, 'address': {'house_name': 'vidhya vilasam', 'city': 'Thiruvananthapuram'}, 'gender': 'female', 'course': 'MCA', 'mark': 79, 'grade': 'B+', 'phone': {'type': 'land', 'no': '04712647790'}}\n",
      "{'_id': 18, 'name': {'fname': 'Arya', 'lname': 'Satheesh'}, 'address': {'house_name': 'Arya Bhavan', 'city': 'Kollam'}, 'gender': 'female', 'course': 'Civil', 'mark': 90, 'grade': 'A+', 'phone': {'type': 'mobile', 'no': 9445399787}}\n",
      "{'_id': 19, 'name': {'fname': 'Soorya', 'lname': 'S'}, 'address': {'house_name': 'Meena Bhavan', 'city': 'Thiruvananthapuram'}, 'gender': 'female', 'course': 'MCA', 'mark': 79, 'grade': 'B+', 'phone': {'type': 'land', 'no': '04712647890'}}\n",
      "{'_id': 20, 'name': {'fname': 'Amritha', 'lname': 'S'}, 'address': {'house_name': 'Arya Bhavan', 'city': 'Varkala'}, 'gender': 'female', 'course': 'MCA', 'mark': 99, 'grade': 'A+', 'phone': {'type': 'mobile', 'no': 9445365787}}\n",
      "{'_id': 21, 'name': {'fname': 'Soorya', 'lname': 'P'}, 'address': {'house_name': 'Soorya Bhavan', 'city': 'Thiruvananthapuram'}, 'gender': 'female', 'course': 'MCA', 'mark': 74, 'grade': 'B+', 'phone': {'type': 'land', 'no': '04712641890'}}\n"
     ]
    }
   ],
   "source": [
    "x=db.studlist.find({\"gender\":\"female\"})\n",
    "for i in x:\n",
    "    print(i)"
   ]
  },
  {
   "cell_type": "code",
   "execution_count": null,
   "metadata": {},
   "outputs": [],
   "source": []
  }
 ],
 "metadata": {
  "kernelspec": {
   "display_name": "Python 3",
   "language": "python",
   "name": "python3"
  },
  "language_info": {
   "codemirror_mode": {
    "name": "ipython",
    "version": 3
   },
   "file_extension": ".py",
   "mimetype": "text/x-python",
   "name": "python",
   "nbconvert_exporter": "python",
   "pygments_lexer": "ipython3",
   "version": "3.11.9"
  }
 },
 "nbformat": 4,
 "nbformat_minor": 2
}
