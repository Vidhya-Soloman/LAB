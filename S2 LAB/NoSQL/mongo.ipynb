{
 "cells": [
  {
   "cell_type": "code",
   "execution_count": 18,
   "metadata": {},
   "outputs": [],
   "source": [
    "import pymongo;\n",
    "conn=pymongo.MongoClient(\"mongodb://localhost:27017\")\n",
    "db=conn[\"college\"]\n",
    "col=db[\"studlist\"]"
   ]
  },
  {
   "cell_type": "code",
   "execution_count": 57,
   "metadata": {},
   "outputs": [
    {
     "name": "stdout",
     "output_type": "stream",
     "text": [
      "{'_id': 3, 'name': {'fname': 'Varun', 'lname': 'Nair'}, 'address': {'house_name': 'Koustubham', 'city': 'Thiruvananthapuram'}, 'gender': 'male', 'course': 'MCA', 'mark': 70, 'grade': 'B+', 'phone': {'type': 'land', 'no': '04712662690'}}\n",
      "{'_id': 4, 'name': {'fname': 'Vidhya', 'lname': 'S'}, 'address': {'house_name': 'MRS House', 'city': 'Kadakkavoor'}, 'gender': 'female', 'course': 'Civil', 'mark': 85, 'grade': 'A', 'phone': {'type': 'mobile', 'no': 8146321420}}\n",
      "{'_id': 7, 'name': {'fname': 'Vivek', 'lname': 'Bose'}, 'address': {'house_name': 'Kallu', 'city': 'Ernakulam'}, 'gender': 'male', 'course': 'MCA', 'mark': 60, 'grade': 'B', 'phone': {'type': 'land', 'no': '04842663890'}}\n",
      "{'_id': 10, 'name': {'fname': 'Vimal', 'lname': 'Vinayan'}, 'address': {'house_name': 'Vimala Bhavan', 'city': 'Kollam'}, 'gender': 'male', 'course': 'Mechanical', 'mark': 90, 'grade': 'A+', 'phone': {'type': 'mobile', 'no': 8185399780}}\n",
      "{'_id': 12, 'name': {'fname': 'Vimal', 'lname': 'Bose'}, 'address': {'house_name': 'Vimalam', 'city': 'Ernakulam'}, 'gender': 'male', 'course': 'MCA', 'mark': 90, 'grade': 'A+', 'phone': {'type': 'mobile', 'no': 9485399780}}\n",
      "{'_id': 14, 'name': {'fname': 'Vinod', 'lname': 'Paniker'}, 'address': {'house_name': 'Deepam', 'city': 'Ernakulam'}, 'gender': 'male', 'course': 'MCA', 'mark': 70, 'grade': 'B', 'phone': {'type': 'mobile', 'no': 9445399787}}\n",
      "{'_id': 17, 'name': {'fname': 'Vidhya', 'lname': 'Sugunan'}, 'address': {'house_name': 'vidhya vilasam', 'city': 'Thiruvananthapuram'}, 'gender': 'female', 'course': 'MCA', 'mark': 79, 'grade': 'B+', 'phone': {'type': 'land', 'no': '04712647790'}}\n"
     ]
    }
   ],
   "source": [
    "x=db.studlist.find({\"name.fname\":{\"$regex\":\"^V\"}})\n",
    "for i in x:\n",
    "    print(i)"
   ]
  },
  {
   "cell_type": "code",
   "execution_count": 52,
   "metadata": {},
   "outputs": [
    {
     "name": "stdout",
     "output_type": "stream",
     "text": [
      "{'fname': 'Vidhya', 'lname': 'S'}\n",
      "{'fname': 'Yadu', 'lname': 'Kannan'}\n",
      "{'fname': 'Renuka', 'lname': 'Vijayan'}\n",
      "{'fname': 'Remya', 'lname': 'V'}\n"
     ]
    }
   ],
   "source": [
    "x=db.studlist.find({\"mark\":{\"$gt\":80,\"$lt\":90}})\n",
    "for i in x:\n",
    "    print(i[\"name\"])"
   ]
  },
  {
   "cell_type": "code",
   "execution_count": 38,
   "metadata": {},
   "outputs": [
    {
     "name": "stdout",
     "output_type": "stream",
     "text": [
      "{'_id': 8, 'name': {'fname': 'Kavya', 'lname': 'Mohan'}, 'address': {'house_name': 'Kavyanjali', 'city': 'Kollam'}, 'gender': 'female', 'course': 'Mechanical', 'mark': 95, 'grade': 'A+', 'phone': {'type': 'mobile', 'no': 9448399780}}\n",
      "{'_id': 10, 'name': {'fname': 'Vimal', 'lname': 'Vinayan'}, 'address': {'house_name': 'Vimala Bhavan', 'city': 'Kollam'}, 'gender': 'male', 'course': 'Mechanical', 'mark': 90, 'grade': 'A+', 'phone': {'type': 'mobile', 'no': 8185399780}}\n",
      "{'_id': 6, 'name': {'fname': 'Yadu', 'lname': 'Kannan'}, 'address': {'house_name': 'Sreenilayam', 'city': 'Kollam'}, 'gender': 'male', 'course': 'Mechanical', 'mark': 85, 'grade': 'A', 'phone': {'type': 'mobile', 'no': 9446321780}}\n"
     ]
    }
   ],
   "source": [
    "x=db.studlist.find({\"course\":\"Mechanical\"}).sort(\"mark\",-1).limit(3)\n",
    "for i in x:\n",
    "    print(i)"
   ]
  },
  {
   "cell_type": "code",
   "execution_count": 33,
   "metadata": {},
   "outputs": [
    {
     "name": "stdout",
     "output_type": "stream",
     "text": [
      "{'fname': 'Vimal', 'lname': 'Vinayan'}\n",
      "{'fname': 'Vimal', 'lname': 'Bose'}\n",
      "{'fname': 'Arun', 'lname': 'S'}\n"
     ]
    }
   ],
   "source": [
    "x=db.studlist.find({\"gender\":\"male\",\"grade\":\"A+\"})\n",
    "for i in x:\n",
    "    print(i[\"name\"])"
   ]
  },
  {
   "cell_type": "code",
   "execution_count": 23,
   "metadata": {},
   "outputs": [
    {
     "name": "stdout",
     "output_type": "stream",
     "text": [
      "{'_id': 20, 'name': {'fname': 'Amritha', 'lname': 'S'}, 'address': {'house_name': 'Arya Bhavan', 'city': 'Varkala'}, 'gender': 'female', 'course': 'MCA', 'mark': 99, 'grade': 'A+', 'phone': {'type': 'mobile', 'no': 9445365787}}\n"
     ]
    }
   ],
   "source": [
    "x=db.studlist.find({\"course\":\"MCA\"}).sort(\"mark\",-1).limit(1)\n",
    "for i in x:\n",
    "    print(i)\n",
    "                   "
   ]
  },
  {
   "cell_type": "code",
   "execution_count": 19,
   "metadata": {},
   "outputs": [
    {
     "name": "stdout",
     "output_type": "stream",
     "text": [
      "{'fname': 'Athira', 'lname': 'Krishnan'} 80\n",
      "{'fname': 'Divya', 'lname': 'Vijayan'} 70\n",
      "{'fname': 'Renuka', 'lname': 'Vijayan'} 82\n",
      "{'fname': 'Remya', 'lname': 'V'} 85\n",
      "{'fname': 'Remya', 'lname': 'Sugunan'} 72\n",
      "{'fname': 'Vidhya', 'lname': 'Sugunan'} 79\n",
      "{'fname': 'Soorya', 'lname': 'S'} 79\n",
      "{'fname': 'Amritha', 'lname': 'S'} 99\n",
      "{'fname': 'Soorya', 'lname': 'P'} 74\n"
     ]
    }
   ],
   "source": [
    "x=db.studlist.find({\"gender\":\"female\",\"course\":\"MCA\"})\n",
    "for i in x:\n",
    "    print(i[\"name\"],i[\"mark\"])\n"
   ]
  }
 ],
 "metadata": {
  "kernelspec": {
   "display_name": "Python 3",
   "language": "python",
   "name": "python3"
  },
  "language_info": {
   "codemirror_mode": {
    "name": "ipython",
    "version": 3
   },
   "file_extension": ".py",
   "mimetype": "text/x-python",
   "name": "python",
   "nbconvert_exporter": "python",
   "pygments_lexer": "ipython3",
   "version": "3.11.9"
  }
 },
 "nbformat": 4,
 "nbformat_minor": 2
}
