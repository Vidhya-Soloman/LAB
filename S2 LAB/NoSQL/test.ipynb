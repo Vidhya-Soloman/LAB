{
 "cells": [
  {
   "cell_type": "code",
   "execution_count": 14,
   "metadata": {},
   "outputs": [],
   "source": [
    "import pymongo\n",
    "a=pymongo.MongoClient(\"mongodb://localhost:27017/\")\n",
    "db=a['college']\n",
    "col=db['studlist']"
   ]
  },
  {
   "cell_type": "code",
   "execution_count": 4,
   "metadata": {},
   "outputs": [
    {
     "name": "stdout",
     "output_type": "stream",
     "text": [
      "{'fname': 'Athira', 'lname': 'Krishnan'}\n",
      "{'fname': 'Arya', 'lname': 'S'}\n",
      "{'fname': 'Vidhya', 'lname': 'S'}\n",
      "{'fname': 'Kavya', 'lname': 'Mohan'}\n",
      "{'fname': 'Divya', 'lname': 'Vijayan'}\n",
      "{'fname': 'Renuka', 'lname': 'Vijayan'}\n",
      "{'fname': 'Remya', 'lname': 'V'}\n",
      "{'fname': 'Remya', 'lname': 'Sugunan'}\n",
      "{'fname': 'Vidhya', 'lname': 'Sugunan'}\n",
      "{'fname': 'Arya', 'lname': 'Satheesh'}\n",
      "{'fname': 'Soorya', 'lname': 'S'}\n",
      "{'fname': 'Amritha', 'lname': 'S'}\n",
      "{'fname': 'Soorya', 'lname': 'P'}\n"
     ]
    }
   ],
   "source": [
    "x=db.studlist.find({\"gender\":\"female\"})\n",
    "for i in x:\n",
    " print(i[\"name\"])"
   ]
  },
  {
   "cell_type": "code",
   "execution_count": 19,
   "metadata": {},
   "outputs": [],
   "source": [
    "x=db.studlist.find({\"fname\":{\"$regex\":\"^A\"}})\n",
    "for i in x:\n",
    "    print(i[\"name\"])"
   ]
  },
  {
   "cell_type": "code",
   "execution_count": null,
   "metadata": {},
   "outputs": [],
   "source": []
  }
 ],
 "metadata": {
  "kernelspec": {
   "display_name": "Python 3",
   "language": "python",
   "name": "python3"
  },
  "language_info": {
   "codemirror_mode": {
    "name": "ipython",
    "version": 3
   },
   "file_extension": ".py",
   "mimetype": "text/x-python",
   "name": "python",
   "nbconvert_exporter": "python",
   "pygments_lexer": "ipython3",
   "version": "3.11.9"
  }
 },
 "nbformat": 4,
 "nbformat_minor": 2
}
