{
 "cells": [
  {
   "cell_type": "code",
   "execution_count": 2,
   "metadata": {},
   "outputs": [],
   "source": [
    "import pymongo\n",
    "conn=pymongo.MongoClient(\"mongodb://localhost:27017\")\n",
    "db=conn[\"exam\"]\n",
    "col=db[\"external\"]\n"
   ]
  },
  {
   "cell_type": "code",
   "execution_count": 3,
   "metadata": {},
   "outputs": [
    {
     "name": "stdout",
     "output_type": "stream",
     "text": [
      "values inserted\n"
     ]
    }
   ],
   "source": [
    "x=db.external.insert_one({\"name\":\"vidhya\",\"age\":22})\n",
    "if(x):\n",
    "    print(\"values inserted\")"
   ]
  },
  {
   "cell_type": "code",
   "execution_count": 7,
   "metadata": {},
   "outputs": [
    {
     "name": "stdout",
     "output_type": "stream",
     "text": [
      "inserted\n"
     ]
    }
   ],
   "source": [
    "x=db.external.insert_one({\"name\":\"A\",\"mark\":{\"internal\":30,\"external\":40}})\n",
    "if(x):\n",
    "    print(\"inserted\")"
   ]
  },
  {
   "cell_type": "code",
   "execution_count": 11,
   "metadata": {},
   "outputs": [
    {
     "name": "stdout",
     "output_type": "stream",
     "text": [
      "{'_id': 1, 'name': {'fname': 'Athira', 'lname': 'Krishnan'}, 'mark': 80}\n",
      "{'_id': 9, 'name': {'fname': 'Divya', 'lname': 'Vijayan'}, 'mark': 70}\n",
      "{'_id': 11, 'name': {'fname': 'Renuka', 'lname': 'Vijayan'}, 'mark': 82}\n",
      "{'_id': 13, 'name': {'fname': 'Remya', 'lname': 'V'}, 'mark': 85}\n",
      "{'_id': 15, 'name': {'fname': 'Remya', 'lname': 'Sugunan'}, 'mark': 72}\n",
      "{'_id': 17, 'name': {'fname': 'Vidhya', 'lname': 'Sugunan'}, 'mark': 79}\n",
      "{'_id': 19, 'name': {'fname': 'Soorya', 'lname': 'S'}, 'mark': 79}\n",
      "{'_id': 20, 'name': {'fname': 'Amritha', 'lname': 'S'}, 'mark': 99}\n",
      "{'_id': 21, 'name': {'fname': 'Soorya', 'lname': 'P'}, 'mark': 74}\n"
     ]
    }
   ],
   "source": [
    "x=db.external.find({\"course\":\"MCA\",\"gender\":\"female\"},{\"mark\":1,\"name\":1})\n",
    "for i in x:\n",
    "    print(i)"
   ]
  },
  {
   "cell_type": "code",
   "execution_count": 14,
   "metadata": {},
   "outputs": [
    {
     "name": "stdout",
     "output_type": "stream",
     "text": [
      "{'_id': 20, 'name': {'fname': 'Amritha', 'lname': 'S'}, 'address': {'house_name': 'Arya Bhavan', 'city': 'Varkala'}, 'gender': 'female', 'course': 'MCA', 'mark': 99, 'grade': 'A+', 'phone': {'type': 'mobile', 'no': 9445365787}}\n",
      "{'_id': 22, 'name': {'fname': 'Arun', 'lname': 'S'}, 'address': {'house_name': 'Arun Bhavan', 'city': 'Attingal'}, 'gender': 'male', 'course': 'MCA', 'mark': 91, 'grade': 'A+', 'phone': {'type': 'mobile', 'no': 9445366987}}\n",
      "{'_id': 12, 'name': {'fname': 'Vimal', 'lname': 'Bose'}, 'address': {'house_name': 'Vimalam', 'city': 'Ernakulam'}, 'gender': 'male', 'course': 'MCA', 'mark': 90, 'grade': 'A+', 'phone': {'type': 'mobile', 'no': 9485399780}}\n"
     ]
    }
   ],
   "source": [
    "x=db.external.find({\"course\":\"MCA\"}).sort(\"mark\",-1).limit(3)\n",
    "for i in x:\n",
    "    print(i)"
   ]
  },
  {
   "cell_type": "code",
   "execution_count": 15,
   "metadata": {},
   "outputs": [
    {
     "name": "stdout",
     "output_type": "stream",
     "text": [
      "{'_id': 10, 'name': {'fname': 'Vimal', 'lname': 'Vinayan'}, 'address': {'house_name': 'Vimala Bhavan', 'city': 'Kollam'}, 'gender': 'male', 'course': 'Mechanical', 'mark': 90, 'grade': 'A+', 'phone': {'type': 'mobile', 'no': 8185399780}}\n",
      "{'_id': 12, 'name': {'fname': 'Vimal', 'lname': 'Bose'}, 'address': {'house_name': 'Vimalam', 'city': 'Ernakulam'}, 'gender': 'male', 'course': 'MCA', 'mark': 90, 'grade': 'A+', 'phone': {'type': 'mobile', 'no': 9485399780}}\n",
      "{'_id': 22, 'name': {'fname': 'Arun', 'lname': 'S'}, 'address': {'house_name': 'Arun Bhavan', 'city': 'Attingal'}, 'gender': 'male', 'course': 'MCA', 'mark': 91, 'grade': 'A+', 'phone': {'type': 'mobile', 'no': 9445366987}}\n"
     ]
    }
   ],
   "source": [
    "x=db.external.find({\"gender\":\"male\",\"grade\":\"A+\"})\n",
    "for i in x:\n",
    "    print(i)"
   ]
  },
  {
   "cell_type": "code",
   "execution_count": 16,
   "metadata": {},
   "outputs": [
    {
     "name": "stdout",
     "output_type": "stream",
     "text": [
      "{'_id': 8, 'name': {'fname': 'Kavya', 'lname': 'Mohan'}}\n",
      "{'_id': 10, 'name': {'fname': 'Vimal', 'lname': 'Vinayan'}}\n",
      "{'_id': 6, 'name': {'fname': 'Yadu', 'lname': 'Kannan'}}\n"
     ]
    }
   ],
   "source": [
    "x=db.external.find({\"course\":\"Mechanical\"},{\"name\":1}).sort(\"mark\",-1).limit(3)\n",
    "for i in x:\n",
    "    print(i)"
   ]
  },
  {
   "cell_type": "code",
   "execution_count": 23,
   "metadata": {},
   "outputs": [
    {
     "name": "stdout",
     "output_type": "stream",
     "text": [
      "{'_id': 8, 'name': {'fname': 'Kavya', 'lname': 'Mohan'}, 'address': {'house_name': 'Kavyanjali', 'city': 'Kollam'}, 'gender': 'female', 'course': 'Mechanical', 'mark': 95, 'grade': 'A+', 'phone': {'type': 'mobile', 'no': 9448399780}}\n",
      "{'_id': 20, 'name': {'fname': 'Amritha', 'lname': 'S'}, 'address': {'house_name': 'Arya Bhavan', 'city': 'Varkala'}, 'gender': 'female', 'course': 'MCA', 'mark': 99, 'grade': 'A+', 'phone': {'type': 'mobile', 'no': 9445365787}}\n"
     ]
    }
   ],
   "source": [
    "x=db.external.find({\"mark\":{\"$gt\":90},\"gender\":\"female\"})\n",
    "for i in x:\n",
    "    print(i)"
   ]
  },
  {
   "cell_type": "code",
   "execution_count": 25,
   "metadata": {},
   "outputs": [
    {
     "name": "stdout",
     "output_type": "stream",
     "text": [
      "{'_id': 4, 'name': {'fname': 'Vidhya', 'lname': 'S'}, 'address': {'house_name': 'MRS House', 'city': 'Kadakkavoor'}, 'gender': 'female', 'course': 'Civil', 'mark': 85, 'grade': 'A', 'phone': {'type': 'mobile', 'no': 8146321420}}\n",
      "{'_id': 6, 'name': {'fname': 'Yadu', 'lname': 'Kannan'}, 'address': {'house_name': 'Sreenilayam', 'city': 'Kollam'}, 'gender': 'male', 'course': 'Mechanical', 'mark': 85, 'grade': 'A', 'phone': {'type': 'mobile', 'no': 9446321780}}\n",
      "{'_id': 11, 'name': {'fname': 'Renuka', 'lname': 'Vijayan'}, 'address': {'house_name': 'Sreevilasam', 'city': 'Thiruvananthapuram'}, 'gender': 'female', 'course': 'MCA', 'mark': 82, 'grade': 'A', 'phone': {'type': 'land', 'no': '04712547890'}}\n",
      "{'_id': 13, 'name': {'fname': 'Remya', 'lname': 'V'}, 'address': {'house_name': 'Sree', 'city': 'Thiruvananthapuram'}, 'gender': 'female', 'course': 'MCA', 'mark': 85, 'grade': 'A', 'phone': {'type': 'land', 'no': '04712647890'}}\n"
     ]
    }
   ],
   "source": [
    "x=db.external.find({\"mark\":{\"$gt\":80,\"$lt\":90}})\n",
    "for i in x:\n",
    "    print(i)"
   ]
  },
  {
   "cell_type": "code",
   "execution_count": 28,
   "metadata": {},
   "outputs": [
    {
     "name": "stdout",
     "output_type": "stream",
     "text": [
      "{'_id': 3, 'name': {'fname': 'Varun', 'lname': 'Nair'}, 'address': {'house_name': 'Koustubham', 'city': 'Thiruvananthapuram'}, 'gender': 'male', 'course': 'MCA', 'mark': 70, 'grade': 'B+', 'phone': {'type': 'land', 'no': '04712662690'}}\n",
      "{'_id': 4, 'name': {'fname': 'Vidhya', 'lname': 'S'}, 'address': {'house_name': 'MRS House', 'city': 'Kadakkavoor'}, 'gender': 'female', 'course': 'Civil', 'mark': 85, 'grade': 'A', 'phone': {'type': 'mobile', 'no': 8146321420}}\n",
      "{'_id': 7, 'name': {'fname': 'Vivek', 'lname': 'Bose'}, 'address': {'house_name': 'Kallu', 'city': 'Ernakulam'}, 'gender': 'male', 'course': 'MCA', 'mark': 60, 'grade': 'B', 'phone': {'type': 'land', 'no': '04842663890'}}\n",
      "{'_id': 10, 'name': {'fname': 'Vimal', 'lname': 'Vinayan'}, 'address': {'house_name': 'Vimala Bhavan', 'city': 'Kollam'}, 'gender': 'male', 'course': 'Mechanical', 'mark': 90, 'grade': 'A+', 'phone': {'type': 'mobile', 'no': 8185399780}}\n",
      "{'_id': 12, 'name': {'fname': 'Vimal', 'lname': 'Bose'}, 'address': {'house_name': 'Vimalam', 'city': 'Ernakulam'}, 'gender': 'male', 'course': 'MCA', 'mark': 90, 'grade': 'A+', 'phone': {'type': 'mobile', 'no': 9485399780}}\n",
      "{'_id': 14, 'name': {'fname': 'Vinod', 'lname': 'Paniker'}, 'address': {'house_name': 'Deepam', 'city': 'Ernakulam'}, 'gender': 'male', 'course': 'MCA', 'mark': 70, 'grade': 'B', 'phone': {'type': 'mobile', 'no': 9445399787}}\n",
      "{'_id': 17, 'name': {'fname': 'Vidhya', 'lname': 'Sugunan'}, 'address': {'house_name': 'vidhya vilasam', 'city': 'Thiruvananthapuram'}, 'gender': 'female', 'course': 'MCA', 'mark': 79, 'grade': 'B+', 'phone': {'type': 'land', 'no': '04712647790'}}\n"
     ]
    }
   ],
   "source": [
    "x=db.external.find({\"name.fname\":{\"$regex\":\"^V\"}})\n",
    "for i in x:\n",
    "    print(i)"
   ]
  },
  {
   "cell_type": "code",
   "execution_count": 30,
   "metadata": {},
   "outputs": [
    {
     "name": "stdout",
     "output_type": "stream",
     "text": [
      "{'_id': 1, 'name': {'fname': 'Athira', 'lname': 'Krishnan'}, 'address': {'house_name': 'Ambadi', 'city': 'Kollam'}, 'gender': 'female', 'course': 'MCA', 'mark': 80, 'grade': 'A', 'phone': {'type': 'mobile', 'no': 9896321450}}\n",
      "{'_id': 6, 'name': {'fname': 'Yadu', 'lname': 'Kannan'}, 'address': {'house_name': 'Sreenilayam', 'city': 'Kollam'}, 'gender': 'male', 'course': 'Mechanical', 'mark': 85, 'grade': 'A', 'phone': {'type': 'mobile', 'no': 9446321780}}\n",
      "{'_id': 8, 'name': {'fname': 'Kavya', 'lname': 'Mohan'}, 'address': {'house_name': 'Kavyanjali', 'city': 'Kollam'}, 'gender': 'female', 'course': 'Mechanical', 'mark': 95, 'grade': 'A+', 'phone': {'type': 'mobile', 'no': 9448399780}}\n",
      "{'_id': 10, 'name': {'fname': 'Vimal', 'lname': 'Vinayan'}, 'address': {'house_name': 'Vimala Bhavan', 'city': 'Kollam'}, 'gender': 'male', 'course': 'Mechanical', 'mark': 90, 'grade': 'A+', 'phone': {'type': 'mobile', 'no': 8185399780}}\n",
      "{'_id': 16, 'name': {'fname': 'Jabin', 'lname': 'S'}, 'address': {'house_name': 'Deepam', 'city': 'Kollam'}, 'gender': 'male', 'course': 'Civil', 'mark': 70, 'grade': 'B', 'phone': {'type': 'mobile', 'no': 9485399787}}\n",
      "{'_id': 18, 'name': {'fname': 'Arya', 'lname': 'Satheesh'}, 'address': {'house_name': 'Arya Bhavan', 'city': 'Kollam'}, 'gender': 'female', 'course': 'Civil', 'mark': 90, 'grade': 'A+', 'phone': {'type': 'mobile', 'no': 9445399787}}\n"
     ]
    }
   ],
   "source": [
    "x=db.external.find({\"address.city\":\"Kollam\"})\n",
    "for i in x:\n",
    "    print(i)"
   ]
  },
  {
   "cell_type": "code",
   "execution_count": 31,
   "metadata": {},
   "outputs": [
    {
     "name": "stdout",
     "output_type": "stream",
     "text": [
      "{'_id': ObjectId('668e1112296e9ee74d56693a'), 'name': 'vidhya', 'age': 22}\n",
      "{'_id': ObjectId('668e11d7296e9ee74d56693c'), 'name': 'A', 'mark': {'internal': 30, 'external': 40}}\n",
      "{'_id': 2, 'name': {'fname': 'Arya', 'lname': 'S'}, 'address': {'house_name': 'M.B.S.Bhavan', 'city': 'Varkala'}, 'gender': 'female', 'course': 'Computer Science', 'mark': 90, 'grade': 'A+', 'phone': {'type': 'mobile', 'no': 9446321420}}\n",
      "{'_id': 4, 'name': {'fname': 'Vidhya', 'lname': 'S'}, 'address': {'house_name': 'MRS House', 'city': 'Kadakkavoor'}, 'gender': 'female', 'course': 'Civil', 'mark': 85, 'grade': 'A', 'phone': {'type': 'mobile', 'no': 8146321420}}\n",
      "{'_id': 7, 'name': {'fname': 'Vivek', 'lname': 'Bose'}, 'address': {'house_name': 'Kallu', 'city': 'Ernakulam'}, 'gender': 'male', 'course': 'MCA', 'mark': 60, 'grade': 'B', 'phone': {'type': 'land', 'no': '04842663890'}}\n",
      "{'_id': 9, 'name': {'fname': 'Divya', 'lname': 'Vijayan'}, 'address': {'house_name': 'Divyalayam', 'city': 'Varkala'}, 'gender': 'female', 'course': 'MCA', 'mark': 70, 'grade': 'B+', 'phone': {'type': 'land', 'no': '04702667890'}}\n",
      "{'_id': 12, 'name': {'fname': 'Vimal', 'lname': 'Bose'}, 'address': {'house_name': 'Vimalam', 'city': 'Ernakulam'}, 'gender': 'male', 'course': 'MCA', 'mark': 90, 'grade': 'A+', 'phone': {'type': 'mobile', 'no': 9485399780}}\n",
      "{'_id': 14, 'name': {'fname': 'Vinod', 'lname': 'Paniker'}, 'address': {'house_name': 'Deepam', 'city': 'Ernakulam'}, 'gender': 'male', 'course': 'MCA', 'mark': 70, 'grade': 'B', 'phone': {'type': 'mobile', 'no': 9445399787}}\n",
      "{'_id': 20, 'name': {'fname': 'Amritha', 'lname': 'S'}, 'address': {'house_name': 'Arya Bhavan', 'city': 'Varkala'}, 'gender': 'female', 'course': 'MCA', 'mark': 99, 'grade': 'A+', 'phone': {'type': 'mobile', 'no': 9445365787}}\n",
      "{'_id': 22, 'name': {'fname': 'Arun', 'lname': 'S'}, 'address': {'house_name': 'Arun Bhavan', 'city': 'Attingal'}, 'gender': 'male', 'course': 'MCA', 'mark': 91, 'grade': 'A+', 'phone': {'type': 'mobile', 'no': 9445366987}}\n",
      "{'_id': 24, 'name': {'fname': 'Abhilash', 'lname': 'S'}, 'address': {'house_name': 'Dhanya Bhavan', 'city': 'Attingal'}, 'gender': 'male', 'course': 'Mechanical', 'mark': 75, 'grade': 'B+', 'phone': {'type': 'mobile', 'no': 8182366987}}\n",
      "{'_id': 25, 'name': {'fname': 'Sree', 'lname': 'Raj'}, 'address': {'house_name': 'Sree', 'city': 'Varkala'}, 'gender': 'male', 'course': 'Civil', 'mark': 74, 'grade': 'B+', 'phone': {'type': 'land', 'no': '04702721890'}}\n"
     ]
    }
   ],
   "source": [
    "x=db.external.find({\"address.city\":{\"$nin\":[\"Kollam\",\"Thiruvananthapuram\"]}})\n",
    "for i in x:\n",
    "    print(i)"
   ]
  },
  {
   "cell_type": "code",
   "execution_count": 32,
   "metadata": {},
   "outputs": [
    {
     "name": "stdout",
     "output_type": "stream",
     "text": [
      "{'_id': 1, 'name': {'fname': 'Athira', 'lname': 'Krishnan'}, 'address': {'house_name': 'Ambadi', 'city': 'Kollam'}, 'gender': 'female', 'course': 'MCA', 'mark': 80, 'grade': 'A', 'phone': {'type': 'mobile', 'no': 9896321450}}\n",
      "{'_id': 8, 'name': {'fname': 'Kavya', 'lname': 'Mohan'}, 'address': {'house_name': 'Kavyanjali', 'city': 'Kollam'}, 'gender': 'female', 'course': 'Mechanical', 'mark': 95, 'grade': 'A+', 'phone': {'type': 'mobile', 'no': 9448399780}}\n",
      "{'_id': 11, 'name': {'fname': 'Renuka', 'lname': 'Vijayan'}, 'address': {'house_name': 'Sreevilasam', 'city': 'Thiruvananthapuram'}, 'gender': 'female', 'course': 'MCA', 'mark': 82, 'grade': 'A', 'phone': {'type': 'land', 'no': '04712547890'}}\n",
      "{'_id': 13, 'name': {'fname': 'Remya', 'lname': 'V'}, 'address': {'house_name': 'Sree', 'city': 'Thiruvananthapuram'}, 'gender': 'female', 'course': 'MCA', 'mark': 85, 'grade': 'A', 'phone': {'type': 'land', 'no': '04712647890'}}\n",
      "{'_id': 15, 'name': {'fname': 'Remya', 'lname': 'Sugunan'}, 'address': {'house_name': 'Remya vilasam', 'city': 'Thiruvananthapuram'}, 'gender': 'female', 'course': 'MCA', 'mark': 72, 'grade': 'B+', 'phone': {'type': 'land', 'no': '04712648890'}}\n",
      "{'_id': 17, 'name': {'fname': 'Vidhya', 'lname': 'Sugunan'}, 'address': {'house_name': 'vidhya vilasam', 'city': 'Thiruvananthapuram'}, 'gender': 'female', 'course': 'MCA', 'mark': 79, 'grade': 'B+', 'phone': {'type': 'land', 'no': '04712647790'}}\n",
      "{'_id': 18, 'name': {'fname': 'Arya', 'lname': 'Satheesh'}, 'address': {'house_name': 'Arya Bhavan', 'city': 'Kollam'}, 'gender': 'female', 'course': 'Civil', 'mark': 90, 'grade': 'A+', 'phone': {'type': 'mobile', 'no': 9445399787}}\n",
      "{'_id': 19, 'name': {'fname': 'Soorya', 'lname': 'S'}, 'address': {'house_name': 'Meena Bhavan', 'city': 'Thiruvananthapuram'}, 'gender': 'female', 'course': 'MCA', 'mark': 79, 'grade': 'B+', 'phone': {'type': 'land', 'no': '04712647890'}}\n",
      "{'_id': 21, 'name': {'fname': 'Soorya', 'lname': 'P'}, 'address': {'house_name': 'Soorya Bhavan', 'city': 'Thiruvananthapuram'}, 'gender': 'female', 'course': 'MCA', 'mark': 74, 'grade': 'B+', 'phone': {'type': 'land', 'no': '04712641890'}}\n"
     ]
    }
   ],
   "source": [
    "x=db.external.find({\"gender\":\"female\",\"address.city\":{\"$in\":[\"Kollam\",\"Thiruvananthapuram\"]}})\n",
    "for i in x:\n",
    "    print(i)"
   ]
  },
  {
   "cell_type": "code",
   "execution_count": 36,
   "metadata": {},
   "outputs": [
    {
     "name": "stdout",
     "output_type": "stream",
     "text": [
      "inserted\n"
     ]
    }
   ],
   "source": [
    "x=db.external.insert_one({\"id\":1,\"name\":\"vidhya\"})\n",
    "if(x):\n",
    "    print(\"inserted\")"
   ]
  }
 ],
 "metadata": {
  "kernelspec": {
   "display_name": "Python 3",
   "language": "python",
   "name": "python3"
  },
  "language_info": {
   "codemirror_mode": {
    "name": "ipython",
    "version": 3
   },
   "file_extension": ".py",
   "mimetype": "text/x-python",
   "name": "python",
   "nbconvert_exporter": "python",
   "pygments_lexer": "ipython3",
   "version": "3.11.9"
  }
 },
 "nbformat": 4,
 "nbformat_minor": 2
}
